{
 "cells": [
  {
   "cell_type": "markdown",
   "metadata": {},
   "source": [
    "# Assignment 2: Cardiovascular Risk\n",
    "Alex Reese, Scott Ratchford, Ben Fioresi\n",
    "### Introduction\n",
    "TODO"
   ]
  },
  {
   "cell_type": "markdown",
   "metadata": {},
   "source": [
    "Only run this install command on Google Colab, and only once."
   ]
  },
  {
   "cell_type": "code",
   "execution_count": 1,
   "metadata": {},
   "outputs": [],
   "source": [
    "# !pip install tensorflow_decision_forests"
   ]
  },
  {
   "cell_type": "code",
   "execution_count": 2,
   "metadata": {},
   "outputs": [],
   "source": [
    "import pandas as pd\n",
    "import numpy as np\n",
    "\n",
    "# Load the dataset\n",
    "data = pd.read_csv('Heart_failure_dataset.csv', encoding = \"utf-8-sig\")\n",
    "\n",
    "# # Separate the Cabin column using '/' as the delimiter\n",
    "# data[['Cabin_deck', 'Cabin_num', 'Cabin_side']] = data['Cabin'].str.split('/', expand=True)\n",
    "\n",
    "# # Separate the Name column and keep only the first letter of each name\n",
    "# data['Name_first'] = data['Name'].str.split().str[0].str[0]\n",
    "# data['Name_last'] = data['Name'].str.split().str[-1].str[0]\n",
    "\n",
    "# # Separate the PassengerId column using '_' as the delimiter\n",
    "# data[['PassengerId_1', 'PassengerId_2']] = data['PassengerId'].str.split('_', expand=True)\n",
    "# data['PassengerId_1'] = pd.to_numeric(data['PassengerId_1'], errors='coerce')\n",
    "# data['PassengerId_2'] = pd.to_numeric(data['PassengerId_2'], errors='coerce')"
   ]
  },
  {
   "cell_type": "code",
   "execution_count": 3,
   "metadata": {},
   "outputs": [],
   "source": [
    "from sklearn.model_selection import train_test_split\n",
    "from sklearn.preprocessing import LabelEncoder, StandardScaler\n",
    "\n",
    "# # Handle missing values: Fill numerical columns with median and categorical columns with mode\n",
    "# for col in data.columns:\n",
    "#     if data[col].dtype == 'object':\n",
    "#         data[col].fillna(data[col].mode()[0], inplace=True)\n",
    "#     else:\n",
    "#         data[col].fillna(data[col].median(), inplace=True)\n",
    "\n",
    "# # Convert boolean columns to integer\n",
    "# data['CryoSleep'] = data['CryoSleep'].astype(int)\n",
    "# data['VIP'] = data['VIP'].astype(int)\n",
    "# data['Transported'] = data['Transported'].astype(int)\n",
    "\n",
    "# # Integer encode categorical columns\n",
    "# label_encoders = {}\n",
    "# for col in ['HomePlanet', 'Cabin_deck', 'Cabin_side', 'Destination']:\n",
    "#   le = LabelEncoder()\n",
    "#   data[col] = le.fit_transform(data[col])\n",
    "#   label_encoders[col] = le\n",
    "\n",
    "# # Normalize numerical columns\n",
    "# scaler = StandardScaler()\n",
    "# numerical_cols = ['Cabin.num', 'Age', 'RoomService', 'FoodCourt', 'ShoppingMall', 'Spa', 'VRDeck']\n",
    "# data[numerical_cols] = scaler.fit_transform(data[numerical_cols])"
   ]
  },
  {
   "cell_type": "markdown",
   "metadata": {},
   "source": [
    "**Only run one of the next two blocks!**"
   ]
  },
  {
   "cell_type": "code",
   "execution_count": 4,
   "metadata": {},
   "outputs": [],
   "source": [
    "# Drop columns that won't be used for training\n",
    "# data = data.drop(columns=['PassengerId', 'Name', 'Name_first', 'Name_last', 'Cabin', 'Cabin_num'])\n",
    "\n",
    "# Split data into training and validation sets                              # stratify insures equal ratio\n",
    "train_data, test_data = train_test_split(data, test_size=0.2, random_state=32)  # , stratify=data['Age']\n",
    "\n",
    "# Save the training and test datasets to CSV files\n",
    "train_data.to_csv('train_data.csv', index=False, encoding=\"utf-8-sig\")\n",
    "test_data.to_csv('test_data.csv', index=False, encoding=\"utf-8-sig\")"
   ]
  },
  {
   "cell_type": "code",
   "execution_count": 5,
   "metadata": {},
   "outputs": [],
   "source": [
    "# import tensorflow as tf\n",
    "# import tensorflow_decision_forests as tfdf\n",
    "\n",
    "# # Load the training dataset\n",
    "# dataset_df = pd.read_csv('train_data.csv', encoding = \"utf-8-sig\")\n",
    "\n",
    "# # Convert the training data to TensorFlow dataset\n",
    "# train_ds = tfdf.keras.pd_dataframe_to_tf_dataset(dataset_df, label=\"Transported\")\n",
    "\n",
    "# # Create a Random Forest model\n",
    "# model = tfdf.keras.RandomForestModel()\n",
    "# model.fit(train_ds)\n",
    "\n",
    "# #model.save('trained_model')"
   ]
  },
  {
   "cell_type": "code",
   "execution_count": 6,
   "metadata": {},
   "outputs": [],
   "source": [
    "# from sklearn.metrics import accuracy_score, precision_score, recall_score, f1_score, roc_auc_score, confusion_matrix\n",
    "\n",
    "# # Load the testing dataset\n",
    "# dataset_df = pd.read_csv('test_data.csv', encoding = \"utf-8-sig\")\n",
    "\n",
    "# # Convert the testing data to TensorFlow dataset\n",
    "# test_ds = tfdf.keras.pd_dataframe_to_tf_dataset(dataset_df, task=tfdf.keras.Task.CLASSIFICATION, label=\"Transported\")\n",
    "\n",
    "# # gather predictions from test data\n",
    "# predictions_proba = model.predict(test_ds).flatten()\n",
    "# predicted_classes = (predictions_proba > 0.5).astype(int)\n",
    "# true_labels = test_data[\"Transported\"].values\n",
    "\n",
    "# # calculate the evaluation metrics\n",
    "# accuracy = accuracy_score(true_labels, predicted_classes)\n",
    "# precision = precision_score(true_labels, predicted_classes)\n",
    "# recall = recall_score(true_labels, predicted_classes)\n",
    "# f1 = f1_score(true_labels, predicted_classes)\n",
    "# roc_auc = roc_auc_score(true_labels, predictions_proba)  # Note: Here we use the probabilities, not the thresholded predictions\n",
    "# conf_matrix = confusion_matrix(true_labels, predicted_classes)\n",
    "\n",
    "# # print metrics\n",
    "# print(f\"Accuracy: {accuracy}\")\n",
    "# print(f\"Precision: {precision}\")\n",
    "# print(f\"Recall: {recall}\")\n",
    "# print(f\"F1 Score: {f1}\")\n",
    "# print(f\"ROC AUC: {roc_auc}\")\n",
    "# print(\"Confusion Matrix:\")\n",
    "# print(conf_matrix)"
   ]
  }
 ],
 "metadata": {
  "kernelspec": {
   "display_name": "base",
   "language": "python",
   "name": "python3"
  },
  "language_info": {
   "codemirror_mode": {
    "name": "ipython",
    "version": 3
   },
   "file_extension": ".py",
   "mimetype": "text/x-python",
   "name": "python",
   "nbconvert_exporter": "python",
   "pygments_lexer": "ipython3",
   "version": "3.11.4"
  }
 },
 "nbformat": 4,
 "nbformat_minor": 2
}
