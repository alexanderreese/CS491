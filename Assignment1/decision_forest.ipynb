{
 "cells": [
  {
   "cell_type": "code",
   "execution_count": null,
   "metadata": {},
   "outputs": [],
   "source": [
    "\"\"\"\n",
    "CS 491 Project 1\n",
    "Team Members: Scott Ratchford, Ben Fioresi, Alexander Reese\n",
    "\"\"\"\n",
    "import tensorflow as tf\n",
    "import tensorflow_decision_forests as tfdf\n",
    "import numpy as np\n",
    "import pandas as pd\n",
    "import matplotlib.pyplot as plt\n"
   ]
  }
 ],
 "metadata": {
  "language_info": {
   "name": "python"
  }
 },
 "nbformat": 4,
 "nbformat_minor": 2
}
